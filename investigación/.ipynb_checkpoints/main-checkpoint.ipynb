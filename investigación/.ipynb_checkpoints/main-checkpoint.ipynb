{
 "cells": [
  {
   "cell_type": "markdown",
   "id": "18378b99",
   "metadata": {},
   "source": [
    "motivación:\n",
    "\n",
    "La influencia de spotify sobre la producción de música nacional: 2013 - 2021.\n",
    "\n",
    "¿Cómo influyeron las lógicas para 'ganar' escuchas y seguidores en Spotify sobre la producción de música, propia a esa plataforma?\n",
    "\n",
    "Spotify promueve en su serie 'game plan':\n",
    "\n",
    "- sacar singles sobre sacar albumes (sacar seguido)\n",
    "- sacar los viernes \n",
    "- aparecer en listas de reproducción: no hay data publica pero parece ser poco. \"Since launching playlist pitching in 2018, as of February 2020, we've playlisted 72,000 artists and playlisted 20% of pitches\" [link](https://artists.spotify.com/blog/release-guide-preparing-for-release-day) \n",
    "- share through social media \n",
    "- encourage listeners to follow you on spotify \n",
    "- make your own playlists\n",
    "- marquees \n",
    "- artist profile\n",
    "- apostar por hacer música con otros\n",
    "\n",
    "otras logicas 'pop':\n",
    "\n",
    "- hacer temas cortos\n",
    "- presencia de cualidades pop\n",
    "\n",
    "\n",
    "bonus: ¿cómo se compara la popularidad de aquellos artistas que mas siguieron estas recomendaciones contra los que no? En el espectro de cantidad de seguidores.\n"
   ]
  },
  {
   "cell_type": "markdown",
   "id": "67855be7",
   "metadata": {},
   "source": [
    "## ¿Cuál fue la tendencia en la cantidad de publicaciones entre albumes y sencillos en este periodo?\n"
   ]
  },
  {
   "cell_type": "code",
   "execution_count": 8,
   "id": "44370b1f",
   "metadata": {},
   "outputs": [
    {
     "name": "stdout",
     "output_type": "stream",
     "text": [
      "[(0.7416, 0.2584), (0.6809, 0.3191), (0.6792, 0.3208), (0.5752, 0.4248), (0.4442, 0.5558), (0.2941, 0.7059), (0.2098, 0.7902), (0.1896, 0.8104), (0.175, 0.825)]\n",
      "[801, 1034, 1194, 1662, 2186, 3274, 4457, 6661, 4704]\n"
     ]
    }
   ],
   "source": [
    "import json \n",
    "file = open('../database/generated/releaseSeries.json', encoding='utf-8')\n",
    "x = json.load(file)\n",
    "file.close()\n",
    "\n",
    "total = [\n",
    "    x['albumes'][i] + x['singles'][i] for i in range(len(x['albumes']))\n",
    "]\n",
    "percents = [\n",
    "    (round(x['albumes'][i] / total[i], 4), \n",
    "     round(x['singles'][i] / total[i], 4))\n",
    "    for i in range(len(total))       \n",
    "]\n",
    "print(percents)\n",
    "print(total)"
   ]
  },
  {
   "cell_type": "markdown",
   "id": "872d402e",
   "metadata": {},
   "source": [
    "resultados: \n",
    "\n",
    "en el 2013 la relación fue de 74% albumes vs 26% sencillos,\n",
    "en el 2021 la relación fue de 17.5% albumes vs 82.5% sencillos.\n",
    "\n",
    "obs:\n",
    "\n",
    "el 2020 fue el año con más lanzamientos hasta la fecha: 1263 albumes y 5398 sencillos. Casi 2000 lanzamientos mas que tanto en el 2019 como en el 2021."
   ]
  },
  {
   "cell_type": "markdown",
   "id": "ee37270b",
   "metadata": {},
   "source": [
    "## ¿Cuál fue la tendencia en la cantidad de música lanzada los días viernes contra otros días en este periodo?"
   ]
  },
  {
   "cell_type": "code",
   "execution_count": 12,
   "id": "c8c30567",
   "metadata": {},
   "outputs": [
    {
     "name": "stdout",
     "output_type": "stream",
     "text": [
      "[0.1586, 0.1325, 0.2596, 0.3791, 0.3875, 0.4432, 0.5775, 0.558, 0.5784]\n"
     ]
    }
   ],
   "source": [
    "import json \n",
    "file = open('../database/generated/fridaySeries.json', encoding='utf-8')\n",
    "x = json.load(file)\n",
    "file.close()\n",
    "\n",
    "series = [\n",
    "    round(x['releases'][i], 4) for i in range(len(x['releases']))\n",
    "]\n",
    "print(series)"
   ]
  },
  {
   "cell_type": "markdown",
   "id": "863eb16a",
   "metadata": {},
   "source": [
    "resultados:\n",
    "    \n",
    "en el 2013 solo el 15.8% de los lanzamientos fueron los viernes, para el 2021 ese número asciende al 57.8%"
   ]
  },
  {
   "cell_type": "markdown",
   "id": "66b86710",
   "metadata": {},
   "source": [
    "## ¿Cuál fue la tendencia en la cantidad de artistas que sacaron música con otros, contra los que no, en este periodo?"
   ]
  },
  {
   "cell_type": "code",
   "execution_count": 13,
   "id": "3f5277cc",
   "metadata": {},
   "outputs": [
    {
     "name": "stdout",
     "output_type": "stream",
     "text": [
      "[0.2097, 0.2273, 0.2295, 0.1943, 0.2626, 0.2792, 0.3042, 0.348, 0.4262]\n"
     ]
    }
   ],
   "source": [
    "import json \n",
    "file = open('../database/generated/invitedSeries.json', encoding='utf-8')\n",
    "x = json.load(file)\n",
    "file.close()\n",
    "\n",
    "series = [\n",
    "    round(x['releases'][i], 4) for i in range(len(x['releases']))\n",
    "]\n",
    "print(series)"
   ]
  },
  {
   "cell_type": "markdown",
   "id": "b4776871",
   "metadata": {},
   "source": [
    "2013: el 20% de los lanzamientos incluían artistas invitados. 2021: el 42.6% de los lanzamientos incluyen artistas invitados. "
   ]
  },
  {
   "cell_type": "markdown",
   "id": "e5df60a8",
   "metadata": {},
   "source": [
    "## ¿Cuál fue la tendencia en la duración de los temas?\n"
   ]
  },
  {
   "cell_type": "code",
   "execution_count": null,
   "id": "e0d05c0b",
   "metadata": {},
   "outputs": [],
   "source": [
    "import json \n",
    "file = open('../database/generated/histograms/duration_ms.json', encoding='utf-8')\n",
    "x = json.load(file)\n",
    "file.close()\n",
    "\n",
    "series = [\n",
    "    round(x['releases'][i], 4) for i in range(len(x['releases']))\n",
    "]\n",
    "print(series)"
   ]
  },
  {
   "cell_type": "markdown",
   "id": "b2a070c4",
   "metadata": {},
   "source": [
    "¿Cuál fue la tendencia en la bailabilidad, energía y valencia de los temas?\n",
    "\n",
    "analizar\n",
    "\n"
   ]
  }
 ],
 "metadata": {
  "kernelspec": {
   "display_name": "Python 3 (ipykernel)",
   "language": "python",
   "name": "python3"
  },
  "language_info": {
   "codemirror_mode": {
    "name": "ipython",
    "version": 3
   },
   "file_extension": ".py",
   "mimetype": "text/x-python",
   "name": "python",
   "nbconvert_exporter": "python",
   "pygments_lexer": "ipython3",
   "version": "3.9.7"
  }
 },
 "nbformat": 4,
 "nbformat_minor": 5
}
